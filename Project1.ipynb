{
 "cells": [
  {
   "cell_type": "markdown",
   "id": "faeab22c",
   "metadata": {},
   "source": [
    "# Project: Investigate the turn up event of patients appointments in Brasil\n",
    "\n",
    "## Table of Content\n",
    "\n",
    "<li><a href='#intro'>Introduction</a></li>\n",
    "<li><a href='#wrangling'>Data Wrangling</a></li>\n",
    "<li><a href='#eda'>Exploratory Data Analysis</a></li>\n",
    "<li><a href='#conclusion'>Conclusion</a></li>\n",
    "<li><a href='#limitation'>Limitations</a></li>\n",
    "\n"
   ]
  },
  {
   "cell_type": "markdown",
   "id": "3b3bc140",
   "metadata": {},
   "source": [
    "<a id='intro'></a>\n",
    "# Introduction\n",
    "\n",
    "In this project we will be carrying analysis related to the turn up event of patients to their appointment across different neighborhood in Brasil. We will be answering related question that would be raised after taking an overview of the dataset in order to give us insights as to why patients may or may not show up for their appoinment. \n",
    "\n",
    "We would like to get answers to questions like;\n",
    "\n",
    "<li> What is the percentage of patients that show up to those who do not show up?</li>\n",
    "<li> Does age have an effect on predicting the turn up?\n",
    "<li> Does time interval of the scheduled date and appointment date influence the turn up?\n",
    "<li> Do patient with scholarship tend to show up more?\n",
    "<li> Do patient with illness/Disability tend to show up more?\n",
    "<li> Does neighborhood have an impact on the turnup?\n",
    "<li> Does sending SMS alert help patients show up more?\n",
    "<li>Do Alcoholic patient show up more?\n",
    "\n",
    "Let's dive in to answer these questions. We will start by importing required modules and the dataset that would be used in this analysis.\n"
   ]
  },
  {
   "cell_type": "code",
   "execution_count": 249,
   "id": "e1cc6f1a",
   "metadata": {},
   "outputs": [],
   "source": [
    "import pandas as pd\n",
    "import numpy as np\n",
    "%matplotlib inline\n",
    "import matplotlib.pyplot as plt\n",
    "import seaborn as sns\n",
    "\n",
    "import warnings\n",
    "warnings.filterwarnings('ignore')"
   ]
  },
  {
   "cell_type": "code",
   "execution_count": 250,
   "id": "99947d92",
   "metadata": {},
   "outputs": [
    {
     "data": {
      "text/html": [
       "<div>\n",
       "<style scoped>\n",
       "    .dataframe tbody tr th:only-of-type {\n",
       "        vertical-align: middle;\n",
       "    }\n",
       "\n",
       "    .dataframe tbody tr th {\n",
       "        vertical-align: top;\n",
       "    }\n",
       "\n",
       "    .dataframe thead th {\n",
       "        text-align: right;\n",
       "    }\n",
       "</style>\n",
       "<table border=\"1\" class=\"dataframe\">\n",
       "  <thead>\n",
       "    <tr style=\"text-align: right;\">\n",
       "      <th></th>\n",
       "      <th>PatientId</th>\n",
       "      <th>AppointmentID</th>\n",
       "      <th>Gender</th>\n",
       "      <th>ScheduledDay</th>\n",
       "      <th>AppointmentDay</th>\n",
       "      <th>Age</th>\n",
       "      <th>Neighbourhood</th>\n",
       "      <th>Scholarship</th>\n",
       "      <th>Hipertension</th>\n",
       "      <th>Diabetes</th>\n",
       "      <th>Alcoholism</th>\n",
       "      <th>Handcap</th>\n",
       "      <th>SMS_received</th>\n",
       "      <th>No-show</th>\n",
       "    </tr>\n",
       "  </thead>\n",
       "  <tbody>\n",
       "    <tr>\n",
       "      <th>0</th>\n",
       "      <td>2.987250e+13</td>\n",
       "      <td>5642903</td>\n",
       "      <td>F</td>\n",
       "      <td>2016-04-29T18:38:08Z</td>\n",
       "      <td>2016-04-29T00:00:00Z</td>\n",
       "      <td>62</td>\n",
       "      <td>JARDIM DA PENHA</td>\n",
       "      <td>0</td>\n",
       "      <td>1</td>\n",
       "      <td>0</td>\n",
       "      <td>0</td>\n",
       "      <td>0</td>\n",
       "      <td>0</td>\n",
       "      <td>No</td>\n",
       "    </tr>\n",
       "    <tr>\n",
       "      <th>1</th>\n",
       "      <td>5.589978e+14</td>\n",
       "      <td>5642503</td>\n",
       "      <td>M</td>\n",
       "      <td>2016-04-29T16:08:27Z</td>\n",
       "      <td>2016-04-29T00:00:00Z</td>\n",
       "      <td>56</td>\n",
       "      <td>JARDIM DA PENHA</td>\n",
       "      <td>0</td>\n",
       "      <td>0</td>\n",
       "      <td>0</td>\n",
       "      <td>0</td>\n",
       "      <td>0</td>\n",
       "      <td>0</td>\n",
       "      <td>No</td>\n",
       "    </tr>\n",
       "    <tr>\n",
       "      <th>2</th>\n",
       "      <td>4.262962e+12</td>\n",
       "      <td>5642549</td>\n",
       "      <td>F</td>\n",
       "      <td>2016-04-29T16:19:04Z</td>\n",
       "      <td>2016-04-29T00:00:00Z</td>\n",
       "      <td>62</td>\n",
       "      <td>MATA DA PRAIA</td>\n",
       "      <td>0</td>\n",
       "      <td>0</td>\n",
       "      <td>0</td>\n",
       "      <td>0</td>\n",
       "      <td>0</td>\n",
       "      <td>0</td>\n",
       "      <td>No</td>\n",
       "    </tr>\n",
       "    <tr>\n",
       "      <th>3</th>\n",
       "      <td>8.679512e+11</td>\n",
       "      <td>5642828</td>\n",
       "      <td>F</td>\n",
       "      <td>2016-04-29T17:29:31Z</td>\n",
       "      <td>2016-04-29T00:00:00Z</td>\n",
       "      <td>8</td>\n",
       "      <td>PONTAL DE CAMBURI</td>\n",
       "      <td>0</td>\n",
       "      <td>0</td>\n",
       "      <td>0</td>\n",
       "      <td>0</td>\n",
       "      <td>0</td>\n",
       "      <td>0</td>\n",
       "      <td>No</td>\n",
       "    </tr>\n",
       "    <tr>\n",
       "      <th>4</th>\n",
       "      <td>8.841186e+12</td>\n",
       "      <td>5642494</td>\n",
       "      <td>F</td>\n",
       "      <td>2016-04-29T16:07:23Z</td>\n",
       "      <td>2016-04-29T00:00:00Z</td>\n",
       "      <td>56</td>\n",
       "      <td>JARDIM DA PENHA</td>\n",
       "      <td>0</td>\n",
       "      <td>1</td>\n",
       "      <td>1</td>\n",
       "      <td>0</td>\n",
       "      <td>0</td>\n",
       "      <td>0</td>\n",
       "      <td>No</td>\n",
       "    </tr>\n",
       "  </tbody>\n",
       "</table>\n",
       "</div>"
      ],
      "text/plain": [
       "      PatientId  AppointmentID Gender          ScheduledDay  \\\n",
       "0  2.987250e+13        5642903      F  2016-04-29T18:38:08Z   \n",
       "1  5.589978e+14        5642503      M  2016-04-29T16:08:27Z   \n",
       "2  4.262962e+12        5642549      F  2016-04-29T16:19:04Z   \n",
       "3  8.679512e+11        5642828      F  2016-04-29T17:29:31Z   \n",
       "4  8.841186e+12        5642494      F  2016-04-29T16:07:23Z   \n",
       "\n",
       "         AppointmentDay  Age      Neighbourhood  Scholarship  Hipertension  \\\n",
       "0  2016-04-29T00:00:00Z   62    JARDIM DA PENHA            0             1   \n",
       "1  2016-04-29T00:00:00Z   56    JARDIM DA PENHA            0             0   \n",
       "2  2016-04-29T00:00:00Z   62      MATA DA PRAIA            0             0   \n",
       "3  2016-04-29T00:00:00Z    8  PONTAL DE CAMBURI            0             0   \n",
       "4  2016-04-29T00:00:00Z   56    JARDIM DA PENHA            0             1   \n",
       "\n",
       "   Diabetes  Alcoholism  Handcap  SMS_received No-show  \n",
       "0         0           0        0             0      No  \n",
       "1         0           0        0             0      No  \n",
       "2         0           0        0             0      No  \n",
       "3         0           0        0             0      No  \n",
       "4         1           0        0             0      No  "
      ]
     },
     "execution_count": 250,
     "metadata": {},
     "output_type": "execute_result"
    }
   ],
   "source": [
    "df=pd.read_csv(\"noshowappointments-may-2016.csv\")\n",
    "df.head()"
   ]
  },
  {
   "cell_type": "markdown",
   "id": "1a236746",
   "metadata": {},
   "source": [
    "<a id='wrangling'></a>\n",
    "# Data wrangling\n",
    "\n",
    "In this section, we are going to be looking at our dataset to check for abnormalities like missing values, incorrect spellings e.t.c. We would be cleaning and manipulating the data to suit our purpose. \n",
    "\n",
    "### General properties"
   ]
  },
  {
   "cell_type": "code",
   "execution_count": 251,
   "id": "a5308634",
   "metadata": {},
   "outputs": [
    {
     "name": "stdout",
     "output_type": "stream",
     "text": [
      "<class 'pandas.core.frame.DataFrame'>\n",
      "RangeIndex: 110527 entries, 0 to 110526\n",
      "Data columns (total 14 columns):\n",
      " #   Column          Non-Null Count   Dtype  \n",
      "---  ------          --------------   -----  \n",
      " 0   PatientId       110527 non-null  float64\n",
      " 1   AppointmentID   110527 non-null  int64  \n",
      " 2   Gender          110527 non-null  object \n",
      " 3   ScheduledDay    110527 non-null  object \n",
      " 4   AppointmentDay  110527 non-null  object \n",
      " 5   Age             110527 non-null  int64  \n",
      " 6   Neighbourhood   110527 non-null  object \n",
      " 7   Scholarship     110527 non-null  int64  \n",
      " 8   Hipertension    110527 non-null  int64  \n",
      " 9   Diabetes        110527 non-null  int64  \n",
      " 10  Alcoholism      110527 non-null  int64  \n",
      " 11  Handcap         110527 non-null  int64  \n",
      " 12  SMS_received    110527 non-null  int64  \n",
      " 13  No-show         110527 non-null  object \n",
      "dtypes: float64(1), int64(8), object(5)\n",
      "memory usage: 11.8+ MB\n"
     ]
    }
   ],
   "source": [
    "df.info()"
   ]
  },
  {
   "cell_type": "markdown",
   "id": "520cd2bb",
   "metadata": {},
   "source": [
    "We have a total of 14 columns and 110527 rows of which there are no missing values. We can observe hypertension and handicap columns are not correctly  and from the look of the questions we may not be needing the \"patientID\" column to answer the questions since we already have the appointment ID."
   ]
  },
  {
   "cell_type": "code",
   "execution_count": 252,
   "id": "30c3d18e",
   "metadata": {},
   "outputs": [
    {
     "data": {
      "text/html": [
       "<div>\n",
       "<style scoped>\n",
       "    .dataframe tbody tr th:only-of-type {\n",
       "        vertical-align: middle;\n",
       "    }\n",
       "\n",
       "    .dataframe tbody tr th {\n",
       "        vertical-align: top;\n",
       "    }\n",
       "\n",
       "    .dataframe thead th {\n",
       "        text-align: right;\n",
       "    }\n",
       "</style>\n",
       "<table border=\"1\" class=\"dataframe\">\n",
       "  <thead>\n",
       "    <tr style=\"text-align: right;\">\n",
       "      <th></th>\n",
       "      <th>PatientId</th>\n",
       "      <th>AppointmentID</th>\n",
       "      <th>Gender</th>\n",
       "      <th>ScheduledDay</th>\n",
       "      <th>AppointmentDay</th>\n",
       "      <th>Age</th>\n",
       "      <th>Neighbourhood</th>\n",
       "      <th>Scholarship</th>\n",
       "      <th>Hipertension</th>\n",
       "      <th>Diabetes</th>\n",
       "      <th>Alcoholism</th>\n",
       "      <th>Handcap</th>\n",
       "      <th>SMS_received</th>\n",
       "      <th>No-show</th>\n",
       "    </tr>\n",
       "  </thead>\n",
       "  <tbody>\n",
       "    <tr>\n",
       "      <th>count</th>\n",
       "      <td>1.105270e+05</td>\n",
       "      <td>1.105270e+05</td>\n",
       "      <td>110527</td>\n",
       "      <td>110527</td>\n",
       "      <td>110527</td>\n",
       "      <td>110527.000000</td>\n",
       "      <td>110527</td>\n",
       "      <td>110527.000000</td>\n",
       "      <td>110527.000000</td>\n",
       "      <td>110527.000000</td>\n",
       "      <td>110527.000000</td>\n",
       "      <td>110527.000000</td>\n",
       "      <td>110527.000000</td>\n",
       "      <td>110527</td>\n",
       "    </tr>\n",
       "    <tr>\n",
       "      <th>unique</th>\n",
       "      <td>NaN</td>\n",
       "      <td>NaN</td>\n",
       "      <td>2</td>\n",
       "      <td>103549</td>\n",
       "      <td>27</td>\n",
       "      <td>NaN</td>\n",
       "      <td>81</td>\n",
       "      <td>NaN</td>\n",
       "      <td>NaN</td>\n",
       "      <td>NaN</td>\n",
       "      <td>NaN</td>\n",
       "      <td>NaN</td>\n",
       "      <td>NaN</td>\n",
       "      <td>2</td>\n",
       "    </tr>\n",
       "    <tr>\n",
       "      <th>top</th>\n",
       "      <td>NaN</td>\n",
       "      <td>NaN</td>\n",
       "      <td>F</td>\n",
       "      <td>2016-05-06T07:09:54Z</td>\n",
       "      <td>2016-06-06T00:00:00Z</td>\n",
       "      <td>NaN</td>\n",
       "      <td>JARDIM CAMBURI</td>\n",
       "      <td>NaN</td>\n",
       "      <td>NaN</td>\n",
       "      <td>NaN</td>\n",
       "      <td>NaN</td>\n",
       "      <td>NaN</td>\n",
       "      <td>NaN</td>\n",
       "      <td>No</td>\n",
       "    </tr>\n",
       "    <tr>\n",
       "      <th>freq</th>\n",
       "      <td>NaN</td>\n",
       "      <td>NaN</td>\n",
       "      <td>71840</td>\n",
       "      <td>24</td>\n",
       "      <td>4692</td>\n",
       "      <td>NaN</td>\n",
       "      <td>7717</td>\n",
       "      <td>NaN</td>\n",
       "      <td>NaN</td>\n",
       "      <td>NaN</td>\n",
       "      <td>NaN</td>\n",
       "      <td>NaN</td>\n",
       "      <td>NaN</td>\n",
       "      <td>88208</td>\n",
       "    </tr>\n",
       "    <tr>\n",
       "      <th>mean</th>\n",
       "      <td>1.474963e+14</td>\n",
       "      <td>5.675305e+06</td>\n",
       "      <td>NaN</td>\n",
       "      <td>NaN</td>\n",
       "      <td>NaN</td>\n",
       "      <td>37.088874</td>\n",
       "      <td>NaN</td>\n",
       "      <td>0.098266</td>\n",
       "      <td>0.197246</td>\n",
       "      <td>0.071865</td>\n",
       "      <td>0.030400</td>\n",
       "      <td>0.022248</td>\n",
       "      <td>0.321026</td>\n",
       "      <td>NaN</td>\n",
       "    </tr>\n",
       "    <tr>\n",
       "      <th>std</th>\n",
       "      <td>2.560949e+14</td>\n",
       "      <td>7.129575e+04</td>\n",
       "      <td>NaN</td>\n",
       "      <td>NaN</td>\n",
       "      <td>NaN</td>\n",
       "      <td>23.110205</td>\n",
       "      <td>NaN</td>\n",
       "      <td>0.297675</td>\n",
       "      <td>0.397921</td>\n",
       "      <td>0.258265</td>\n",
       "      <td>0.171686</td>\n",
       "      <td>0.161543</td>\n",
       "      <td>0.466873</td>\n",
       "      <td>NaN</td>\n",
       "    </tr>\n",
       "    <tr>\n",
       "      <th>min</th>\n",
       "      <td>3.921784e+04</td>\n",
       "      <td>5.030230e+06</td>\n",
       "      <td>NaN</td>\n",
       "      <td>NaN</td>\n",
       "      <td>NaN</td>\n",
       "      <td>-1.000000</td>\n",
       "      <td>NaN</td>\n",
       "      <td>0.000000</td>\n",
       "      <td>0.000000</td>\n",
       "      <td>0.000000</td>\n",
       "      <td>0.000000</td>\n",
       "      <td>0.000000</td>\n",
       "      <td>0.000000</td>\n",
       "      <td>NaN</td>\n",
       "    </tr>\n",
       "    <tr>\n",
       "      <th>25%</th>\n",
       "      <td>4.172614e+12</td>\n",
       "      <td>5.640286e+06</td>\n",
       "      <td>NaN</td>\n",
       "      <td>NaN</td>\n",
       "      <td>NaN</td>\n",
       "      <td>18.000000</td>\n",
       "      <td>NaN</td>\n",
       "      <td>0.000000</td>\n",
       "      <td>0.000000</td>\n",
       "      <td>0.000000</td>\n",
       "      <td>0.000000</td>\n",
       "      <td>0.000000</td>\n",
       "      <td>0.000000</td>\n",
       "      <td>NaN</td>\n",
       "    </tr>\n",
       "    <tr>\n",
       "      <th>50%</th>\n",
       "      <td>3.173184e+13</td>\n",
       "      <td>5.680573e+06</td>\n",
       "      <td>NaN</td>\n",
       "      <td>NaN</td>\n",
       "      <td>NaN</td>\n",
       "      <td>37.000000</td>\n",
       "      <td>NaN</td>\n",
       "      <td>0.000000</td>\n",
       "      <td>0.000000</td>\n",
       "      <td>0.000000</td>\n",
       "      <td>0.000000</td>\n",
       "      <td>0.000000</td>\n",
       "      <td>0.000000</td>\n",
       "      <td>NaN</td>\n",
       "    </tr>\n",
       "    <tr>\n",
       "      <th>75%</th>\n",
       "      <td>9.439172e+13</td>\n",
       "      <td>5.725524e+06</td>\n",
       "      <td>NaN</td>\n",
       "      <td>NaN</td>\n",
       "      <td>NaN</td>\n",
       "      <td>55.000000</td>\n",
       "      <td>NaN</td>\n",
       "      <td>0.000000</td>\n",
       "      <td>0.000000</td>\n",
       "      <td>0.000000</td>\n",
       "      <td>0.000000</td>\n",
       "      <td>0.000000</td>\n",
       "      <td>1.000000</td>\n",
       "      <td>NaN</td>\n",
       "    </tr>\n",
       "    <tr>\n",
       "      <th>max</th>\n",
       "      <td>9.999816e+14</td>\n",
       "      <td>5.790484e+06</td>\n",
       "      <td>NaN</td>\n",
       "      <td>NaN</td>\n",
       "      <td>NaN</td>\n",
       "      <td>115.000000</td>\n",
       "      <td>NaN</td>\n",
       "      <td>1.000000</td>\n",
       "      <td>1.000000</td>\n",
       "      <td>1.000000</td>\n",
       "      <td>1.000000</td>\n",
       "      <td>4.000000</td>\n",
       "      <td>1.000000</td>\n",
       "      <td>NaN</td>\n",
       "    </tr>\n",
       "  </tbody>\n",
       "</table>\n",
       "</div>"
      ],
      "text/plain": [
       "           PatientId  AppointmentID  Gender          ScheduledDay  \\\n",
       "count   1.105270e+05   1.105270e+05  110527                110527   \n",
       "unique           NaN            NaN       2                103549   \n",
       "top              NaN            NaN       F  2016-05-06T07:09:54Z   \n",
       "freq             NaN            NaN   71840                    24   \n",
       "mean    1.474963e+14   5.675305e+06     NaN                   NaN   \n",
       "std     2.560949e+14   7.129575e+04     NaN                   NaN   \n",
       "min     3.921784e+04   5.030230e+06     NaN                   NaN   \n",
       "25%     4.172614e+12   5.640286e+06     NaN                   NaN   \n",
       "50%     3.173184e+13   5.680573e+06     NaN                   NaN   \n",
       "75%     9.439172e+13   5.725524e+06     NaN                   NaN   \n",
       "max     9.999816e+14   5.790484e+06     NaN                   NaN   \n",
       "\n",
       "              AppointmentDay            Age   Neighbourhood    Scholarship  \\\n",
       "count                 110527  110527.000000          110527  110527.000000   \n",
       "unique                    27            NaN              81            NaN   \n",
       "top     2016-06-06T00:00:00Z            NaN  JARDIM CAMBURI            NaN   \n",
       "freq                    4692            NaN            7717            NaN   \n",
       "mean                     NaN      37.088874             NaN       0.098266   \n",
       "std                      NaN      23.110205             NaN       0.297675   \n",
       "min                      NaN      -1.000000             NaN       0.000000   \n",
       "25%                      NaN      18.000000             NaN       0.000000   \n",
       "50%                      NaN      37.000000             NaN       0.000000   \n",
       "75%                      NaN      55.000000             NaN       0.000000   \n",
       "max                      NaN     115.000000             NaN       1.000000   \n",
       "\n",
       "         Hipertension       Diabetes     Alcoholism        Handcap  \\\n",
       "count   110527.000000  110527.000000  110527.000000  110527.000000   \n",
       "unique            NaN            NaN            NaN            NaN   \n",
       "top               NaN            NaN            NaN            NaN   \n",
       "freq              NaN            NaN            NaN            NaN   \n",
       "mean         0.197246       0.071865       0.030400       0.022248   \n",
       "std          0.397921       0.258265       0.171686       0.161543   \n",
       "min          0.000000       0.000000       0.000000       0.000000   \n",
       "25%          0.000000       0.000000       0.000000       0.000000   \n",
       "50%          0.000000       0.000000       0.000000       0.000000   \n",
       "75%          0.000000       0.000000       0.000000       0.000000   \n",
       "max          1.000000       1.000000       1.000000       4.000000   \n",
       "\n",
       "         SMS_received No-show  \n",
       "count   110527.000000  110527  \n",
       "unique            NaN       2  \n",
       "top               NaN      No  \n",
       "freq              NaN   88208  \n",
       "mean         0.321026     NaN  \n",
       "std          0.466873     NaN  \n",
       "min          0.000000     NaN  \n",
       "25%          0.000000     NaN  \n",
       "50%          0.000000     NaN  \n",
       "75%          1.000000     NaN  \n",
       "max          1.000000     NaN  "
      ]
     },
     "execution_count": 252,
     "metadata": {},
     "output_type": "execute_result"
    }
   ],
   "source": [
    "df.describe(include=\"all\")"
   ]
  },
  {
   "cell_type": "markdown",
   "id": "31bb3f7c",
   "metadata": {},
   "source": [
    "The age column seems to have -1 as its minimum, this value should be replaced or removed. We can also observe that the amount of people that showed up for the appointment is quite high. Handcap has a maximum value of 4, which should either be 0 or 1."
   ]
  },
  {
   "cell_type": "code",
   "execution_count": 253,
   "id": "690c28ed",
   "metadata": {},
   "outputs": [
    {
     "data": {
      "text/plain": [
       "array([[<AxesSubplot:title={'center':'PatientId'}>,\n",
       "        <AxesSubplot:title={'center':'AppointmentID'}>,\n",
       "        <AxesSubplot:title={'center':'Age'}>],\n",
       "       [<AxesSubplot:title={'center':'Scholarship'}>,\n",
       "        <AxesSubplot:title={'center':'Hipertension'}>,\n",
       "        <AxesSubplot:title={'center':'Diabetes'}>],\n",
       "       [<AxesSubplot:title={'center':'Alcoholism'}>,\n",
       "        <AxesSubplot:title={'center':'Handcap'}>,\n",
       "        <AxesSubplot:title={'center':'SMS_received'}>]], dtype=object)"
      ]
     },
     "execution_count": 253,
     "metadata": {},
     "output_type": "execute_result"
    },
    {
     "data": {
      "image/png": "[encoded data removed]",
      "text/plain": [
       "<Figure size 1440x720 with 9 Axes>"
      ]
     },
     "metadata": {
      "needs_background": "light"
     },
     "output_type": "display_data"
    }
   ],
   "source": [
    "df.hist(figsize=(20, 10))"
   ]
  },
  {
   "cell_type": "markdown",
   "id": "bdd0fbe6",
   "metadata": {},
   "source": [
    "All the column values are not showing a wide range of distribution except for the age column. We can also confirm that Handcap has its values spread from 0-4 instead of just 0 and 1."
   ]
  },
  {
   "cell_type": "markdown",
   "id": "7854a08d",
   "metadata": {},
   "source": [
    "### Data Cleaning and Manupulation"
   ]
  },
  {
   "cell_type": "code",
   "execution_count": 254,
   "id": "660598a3",
   "metadata": {},
   "outputs": [],
   "source": [
    "# Drop 'PatientID' column\n",
    "df.drop(['PatientId'], axis = 1, inplace=True)"
   ]
  },
  {
   "cell_type": "code",
   "execution_count": 255,
   "id": "f35a54d0",
   "metadata": {},
   "outputs": [
    {
     "data": {
      "text/plain": [
       "0    108286\n",
       "1      2042\n",
       "2       183\n",
       "3        13\n",
       "4         3\n",
       "Name: Handcap, dtype: int64"
      ]
     },
     "execution_count": 255,
     "metadata": {},
     "output_type": "execute_result"
    }
   ],
   "source": [
    "# Checking for unique values\n",
    "df['Handcap'].value_counts()"
   ]
  },
  {
   "cell_type": "code",
   "execution_count": 256,
   "id": "3901eb1b",
   "metadata": {},
   "outputs": [],
   "source": [
    "# Replace incorrect values in Handicap column to the most frequent value\n",
    "df=df.replace({'Handcap' : { 2 : 0, 3 : 0, 4 : 0}})"
   ]
  },
  {
   "cell_type": "code",
   "execution_count": 257,
   "id": "5ec185b8",
   "metadata": {},
   "outputs": [
    {
     "data": {
      "text/plain": [
       "Index(['AppointmentID', 'Gender', 'ScheduledDay', 'AppointmentDay', 'Age',\n",
       "       'Neighbourhood', 'Scholarship', 'Hypertension', 'Diabetes',\n",
       "       'Alcoholism', 'Handicap', 'SMS_received', 'No-show'],\n",
       "      dtype='object')"
      ]
     },
     "execution_count": 257,
     "metadata": {},
     "output_type": "execute_result"
    }
   ],
   "source": [
    "# Replace incorrectly spelt column names\n",
    "df.rename(columns = {'Handcap':'Handicap', 'Hipertension':'Hypertension'}, inplace = True)\n",
    "df.columns"
   ]
  },
  {
   "cell_type": "code",
   "execution_count": 258,
   "id": "fac3d0d5",
   "metadata": {},
   "outputs": [],
   "source": [
    "# Extract the date from 'ScheduledDay' and 'AppointmentDay' column\n",
    "df['ScheduledDate']=df['ScheduledDay'].apply(lambda x: x[:10])\n",
    "df['AppointmentDate']=df['AppointmentDay'].apply(lambda x: x[:10])"
   ]
  },
  {
   "cell_type": "code",
   "execution_count": 259,
   "id": "432f347e",
   "metadata": {},
   "outputs": [],
   "source": [
    "#Replace -1 with 0 in the Age column\n",
    "df['Age']=df['Age'].replace(-1, 0) \n",
    "\n",
    "# Create Age categories based on age column\n",
    "def age_cat(x):\n",
    "    if x>=0 and x<11:\n",
    "        return \"0-10\"\n",
    "    elif x>=11 and x<21:\n",
    "        return \"11-20\"\n",
    "    elif x>=21 and x<31:\n",
    "        return \"21-30\"\n",
    "    elif x>=31 and x<41:\n",
    "        return \"31-40\"\n",
    "    elif x>=41 and x<61:\n",
    "        return \"41-60\"\n",
    "    elif x>=61:\n",
    "        return \"61 and above\"\n",
    "\n",
    "df['Age_category']=df['Age'].apply(lambda x: age_cat(x))"
   ]
  },
  {
   "cell_type": "markdown",
   "id": "1feccc1f",
   "metadata": {},
   "source": [
    "<a id='eda'></a>\n",
    "# Exploratory Data Analysis"
   ]
  },
  {
   "cell_type": "markdown",
   "id": "bda2f334",
   "metadata": {},
   "source": [
    "### What is the percentage of patients that showed up to those who did not show up?\n",
    "\n",
    "Finding out the percentage of people who turned up would determine how we would narrow down the problem. For instance, if the turn up is quite low, it would be quite alarming and it could mean alot of things are wrong and hence the approach to understanding the problem might be different.\n",
    "\n",
    "We would start by getting the number of patients who turned up and who didnt by using the value_count function. We can then go ahead and find the percentage which would then give a relatable proportion."
   ]
  },
  {
   "cell_type": "code",
   "execution_count": 260,
   "id": "6e21f3dc",
   "metadata": {},
   "outputs": [
    {
     "name": "stdout",
     "output_type": "stream",
     "text": [
      "The percentage of people that turned up; 79.81 %\n",
      "The percentage of people that did not turned up; 20.19 %\n"
     ]
    }
   ],
   "source": [
    "j=df['No-show'].value_counts()\n",
    "turnUp=\"{:.2f}\".format((j[0]/sum(j))*100)\n",
    "NoTurnUp=\"{:.2f}\".format((j[1]/sum(j))*100)\n",
    "print('The percentage of people that turned up;', turnUp, '%\\nThe percentage of people that did not turned up;', NoTurnUp,'%' )"
   ]
  },
  {
   "cell_type": "markdown",
   "id": "1c728b95",
   "metadata": {},
   "source": [
    "We can see that the percentage turn up is quite high. This could mean overall, it is condusive for patients to show up, however, we would want to know possible reasons why those 20.19% of patients did not show up"
   ]
  },
  {
   "cell_type": "markdown",
   "id": "01687522",
   "metadata": {},
   "source": [
    "### Does age have an effect on predicting the turn up?\n",
    "\n",
    "Age could be a typical determining factor as it is possible that some illness is associated with age and may therefore lead to more turn up for that prominent age group. \n",
    "\n",
    "This analysis will be done by grouping the data according to those that showed up and those that didnt. We will then find the percentage of the age groups in each of the grouped data. This will give us the proportion of the age categories in the two groups. \n"
   ]
  },
  {
   "cell_type": "code",
   "execution_count": 261,
   "id": "cae8a3ed",
   "metadata": {},
   "outputs": [
    {
     "data": {
      "text/plain": [
       "41-60           27.763922\n",
       "61 and above    18.996009\n",
       "0-10            16.962180\n",
       "31-40           13.400145\n",
       "21-30           11.777843\n",
       "11-20           11.099900\n",
       "Name: Age_category, dtype: float64"
      ]
     },
     "execution_count": 261,
     "metadata": {},
     "output_type": "execute_result"
    }
   ],
   "source": [
    "# Find the percentage distribution of patients that turned up based on age category\n",
    "j=df[(df['No-show']==\"No\")]['Age_category'].value_counts()\n",
    "m=j[0]+j[1]+j[2]+j[3]+j[4]+j[5]\n",
    "(j/m)*100"
   ]
  },
  {
   "cell_type": "code",
   "execution_count": 262,
   "id": "e6650208",
   "metadata": {},
   "outputs": [
    {
     "data": {
      "text/plain": [
       "41-60           25.050405\n",
       "0-10            16.972087\n",
       "21-30           15.206774\n",
       "11-20           14.821453\n",
       "31-40           14.480936\n",
       "61 and above    13.468345\n",
       "Name: Age_category, dtype: float64"
      ]
     },
     "execution_count": 262,
     "metadata": {},
     "output_type": "execute_result"
    }
   ],
   "source": [
    "# Find the percentage distribution of patients that did not turn up\n",
    "j=df[(df['No-show']==\"Yes\")]['Age_category'].value_counts()\n",
    "m=j[0]+j[1]+j[2]+j[3]+j[4]+j[5]\n",
    "(j/m)*100"
   ]
  },
  {
   "cell_type": "markdown",
   "id": "cea5052b",
   "metadata": {},
   "source": [
    "The percent proportion of the age category seems to differ a bit in the two groups. Lets create a dataframe for them and make a visual representation of them"
   ]
  },
  {
   "cell_type": "code",
   "execution_count": 263,
   "id": "dc14f283",
   "metadata": {},
   "outputs": [
    {
     "data": {
      "text/html": [
       "<div>\n",
       "<style scoped>\n",
       "    .dataframe tbody tr th:only-of-type {\n",
       "        vertical-align: middle;\n",
       "    }\n",
       "\n",
       "    .dataframe tbody tr th {\n",
       "        vertical-align: top;\n",
       "    }\n",
       "\n",
       "    .dataframe thead th {\n",
       "        text-align: right;\n",
       "    }\n",
       "</style>\n",
       "<table border=\"1\" class=\"dataframe\">\n",
       "  <thead>\n",
       "    <tr style=\"text-align: right;\">\n",
       "      <th></th>\n",
       "      <th>Age Category</th>\n",
       "      <th>Percent</th>\n",
       "      <th>No-show</th>\n",
       "    </tr>\n",
       "  </thead>\n",
       "  <tbody>\n",
       "    <tr>\n",
       "      <th>0</th>\n",
       "      <td>0-10</td>\n",
       "      <td>16.972</td>\n",
       "      <td>Yes</td>\n",
       "    </tr>\n",
       "    <tr>\n",
       "      <th>1</th>\n",
       "      <td>11-20</td>\n",
       "      <td>14.821</td>\n",
       "      <td>Yes</td>\n",
       "    </tr>\n",
       "    <tr>\n",
       "      <th>2</th>\n",
       "      <td>21-30</td>\n",
       "      <td>15.207</td>\n",
       "      <td>Yes</td>\n",
       "    </tr>\n",
       "    <tr>\n",
       "      <th>3</th>\n",
       "      <td>31-40</td>\n",
       "      <td>14.481</td>\n",
       "      <td>Yes</td>\n",
       "    </tr>\n",
       "    <tr>\n",
       "      <th>4</th>\n",
       "      <td>41-60</td>\n",
       "      <td>25.050</td>\n",
       "      <td>Yes</td>\n",
       "    </tr>\n",
       "    <tr>\n",
       "      <th>5</th>\n",
       "      <td>61 and above</td>\n",
       "      <td>13.468</td>\n",
       "      <td>Yes</td>\n",
       "    </tr>\n",
       "    <tr>\n",
       "      <th>0</th>\n",
       "      <td>0-10</td>\n",
       "      <td>16.961</td>\n",
       "      <td>No</td>\n",
       "    </tr>\n",
       "    <tr>\n",
       "      <th>1</th>\n",
       "      <td>11-20</td>\n",
       "      <td>11.100</td>\n",
       "      <td>No</td>\n",
       "    </tr>\n",
       "    <tr>\n",
       "      <th>2</th>\n",
       "      <td>21-30</td>\n",
       "      <td>11.778</td>\n",
       "      <td>No</td>\n",
       "    </tr>\n",
       "    <tr>\n",
       "      <th>3</th>\n",
       "      <td>31-40</td>\n",
       "      <td>13.400</td>\n",
       "      <td>No</td>\n",
       "    </tr>\n",
       "    <tr>\n",
       "      <th>4</th>\n",
       "      <td>41-60</td>\n",
       "      <td>27.764</td>\n",
       "      <td>No</td>\n",
       "    </tr>\n",
       "    <tr>\n",
       "      <th>5</th>\n",
       "      <td>61 and above</td>\n",
       "      <td>18.996</td>\n",
       "      <td>No</td>\n",
       "    </tr>\n",
       "  </tbody>\n",
       "</table>\n",
       "</div>"
      ],
      "text/plain": [
       "   Age Category  Percent No-show\n",
       "0          0-10   16.972     Yes\n",
       "1         11-20   14.821     Yes\n",
       "2         21-30   15.207     Yes\n",
       "3         31-40   14.481     Yes\n",
       "4         41-60   25.050     Yes\n",
       "5  61 and above   13.468     Yes\n",
       "0          0-10   16.961      No\n",
       "1         11-20   11.100      No\n",
       "2         21-30   11.778      No\n",
       "3         31-40   13.400      No\n",
       "4         41-60   27.764      No\n",
       "5  61 and above   18.996      No"
      ]
     },
     "execution_count": 263,
     "metadata": {},
     "output_type": "execute_result"
    }
   ],
   "source": [
    "#create indidual dataframe of each category and merge them\n",
    "\n",
    "#Age Category of patients that turned up\n",
    "data_1 = [['0-10', 16.972,'Yes'], ['11-20', 14.821,'Yes'], ['21-30', 15.207,'Yes'] , ['31-40', 14.481,'Yes'], ['41-60', 25.050,'Yes'], ['61 and above', 13.468,'Yes']]\n",
    "age_1 = pd.DataFrame(data_1, columns = ['Age Category', 'Percent', 'No-show'])\n",
    "\n",
    "#Age Category of patients that did not turn up\n",
    "data_2 = [['0-10', 16.961,'No'], ['11-20', 11.100,'No'], ['21-30', 11.778,'No'] , ['31-40', 13.400,'No'], ['41-60', 27.764,'No'], ['61 and above', 18.996,'No']]\n",
    "age_2 = pd.DataFrame(data_2, columns = ['Age Category', 'Percent', 'No-show'])\n",
    "\n",
    "#merge dataframes\n",
    "frames = [age_1, age_2]\n",
    "result = pd.concat(frames)\n",
    "result"
   ]
  },
  {
   "cell_type": "code",
   "execution_count": 264,
   "id": "840323cb",
   "metadata": {
    "scrolled": false
   },
   "outputs": [
    {
     "data": {
      "text/plain": [
       "[Text(0.5, 1.0, 'Bar plot comparing the percent distribution of the age category between the turn up values.')]"
      ]
     },
     "execution_count": 264,
     "metadata": {},
     "output_type": "execute_result"
    },
    {
     "data": {
      "image/png": "[encoded data removed]",
      "text/plain": [
       "<Figure size 1152x576 with 1 Axes>"
      ]
     },
     "metadata": {},
     "output_type": "display_data"
    }
   ],
   "source": [
    "# Create the visual representation of the new dataframe\n",
    "\n",
    "sns.set_theme(style=\"whitegrid\")\n",
    "sns.set(rc={\"figure.figsize\":(16, 8)},font_scale = 1.2)\n",
    "sns.barplot(x=\"No-show\", y=\"Percent\", hue=\"Age Category\", data=result).set(title='Bar plot comparing the percent distribution of the age category between the turn up values.')"
   ]
  },
  {
   "cell_type": "markdown",
   "id": "7a74201f",
   "metadata": {},
   "source": [
    "We observe that the percentage of people above 40 is a bit higher for those who turned up compared to those who didnt. It could be associated with the fact that the older patients tend to fall ill compared to the younger patients and hence it influences their turn up. This leads us to the next question.\n",
    "\n",
    "### Do patient with illness/Disability tend to show up more?\n",
    "\n",
    "Ordinarily there is a high tendency for patients being diagnosed with an illness to show up for their appointments. We would be looking to see if this would be similar in this data. \n",
    "\n",
    "We would go about the analysis by carrying out some manipulations with the data. We would be looking to check through the rows for patients who has either hypertension, diabetes or is disabled and they would be assigned '1' value in a new column called 'disabled/Ill'. The same manipulation would be done with patients who has none of these illness or disability, and they will be assigned a '0' in the new 'disabled/Ill' column. These two new dataframes would be merged together after the analysis."
   ]
  },
  {
   "cell_type": "code",
   "execution_count": 265,
   "id": "ed5e5073",
   "metadata": {},
   "outputs": [
    {
     "data": {
      "text/html": [
       "<div>\n",
       "<style scoped>\n",
       "    .dataframe tbody tr th:only-of-type {\n",
       "        vertical-align: middle;\n",
       "    }\n",
       "\n",
       "    .dataframe tbody tr th {\n",
       "        vertical-align: top;\n",
       "    }\n",
       "\n",
       "    .dataframe thead th {\n",
       "        text-align: right;\n",
       "    }\n",
       "</style>\n",
       "<table border=\"1\" class=\"dataframe\">\n",
       "  <thead>\n",
       "    <tr style=\"text-align: right;\">\n",
       "      <th></th>\n",
       "      <th>AppointmentID</th>\n",
       "      <th>Gender</th>\n",
       "      <th>ScheduledDay</th>\n",
       "      <th>AppointmentDay</th>\n",
       "      <th>Age</th>\n",
       "      <th>Neighbourhood</th>\n",
       "      <th>Scholarship</th>\n",
       "      <th>Hypertension</th>\n",
       "      <th>Diabetes</th>\n",
       "      <th>Alcoholism</th>\n",
       "      <th>Handicap</th>\n",
       "      <th>SMS_received</th>\n",
       "      <th>No-show</th>\n",
       "      <th>ScheduledDate</th>\n",
       "      <th>AppointmentDate</th>\n",
       "      <th>Age_category</th>\n",
       "      <th>disabled/Ill</th>\n",
       "    </tr>\n",
       "  </thead>\n",
       "  <tbody>\n",
       "    <tr>\n",
       "      <th>0</th>\n",
       "      <td>5642903</td>\n",
       "      <td>F</td>\n",
       "      <td>2016-04-29T18:38:08Z</td>\n",
       "      <td>2016-04-29T00:00:00Z</td>\n",
       "      <td>62</td>\n",
       "      <td>JARDIM DA PENHA</td>\n",
       "      <td>0</td>\n",
       "      <td>1</td>\n",
       "      <td>0</td>\n",
       "      <td>0</td>\n",
       "      <td>0</td>\n",
       "      <td>0</td>\n",
       "      <td>No</td>\n",
       "      <td>2016-04-29</td>\n",
       "      <td>2016-04-29</td>\n",
       "      <td>61 and above</td>\n",
       "      <td>1</td>\n",
       "    </tr>\n",
       "    <tr>\n",
       "      <th>4</th>\n",
       "      <td>5642494</td>\n",
       "      <td>F</td>\n",
       "      <td>2016-04-29T16:07:23Z</td>\n",
       "      <td>2016-04-29T00:00:00Z</td>\n",
       "      <td>56</td>\n",
       "      <td>JARDIM DA PENHA</td>\n",
       "      <td>0</td>\n",
       "      <td>1</td>\n",
       "      <td>1</td>\n",
       "      <td>0</td>\n",
       "      <td>0</td>\n",
       "      <td>0</td>\n",
       "      <td>No</td>\n",
       "      <td>2016-04-29</td>\n",
       "      <td>2016-04-29</td>\n",
       "      <td>41-60</td>\n",
       "      <td>1</td>\n",
       "    </tr>\n",
       "    <tr>\n",
       "      <th>5</th>\n",
       "      <td>5626772</td>\n",
       "      <td>F</td>\n",
       "      <td>2016-04-27T08:36:51Z</td>\n",
       "      <td>2016-04-29T00:00:00Z</td>\n",
       "      <td>76</td>\n",
       "      <td>REPÚBLICA</td>\n",
       "      <td>0</td>\n",
       "      <td>1</td>\n",
       "      <td>0</td>\n",
       "      <td>0</td>\n",
       "      <td>0</td>\n",
       "      <td>0</td>\n",
       "      <td>No</td>\n",
       "      <td>2016-04-27</td>\n",
       "      <td>2016-04-29</td>\n",
       "      <td>61 and above</td>\n",
       "      <td>1</td>\n",
       "    </tr>\n",
       "    <tr>\n",
       "      <th>25</th>\n",
       "      <td>5624020</td>\n",
       "      <td>M</td>\n",
       "      <td>2016-04-26T15:04:17Z</td>\n",
       "      <td>2016-04-29T00:00:00Z</td>\n",
       "      <td>46</td>\n",
       "      <td>CONQUISTA</td>\n",
       "      <td>0</td>\n",
       "      <td>1</td>\n",
       "      <td>0</td>\n",
       "      <td>0</td>\n",
       "      <td>0</td>\n",
       "      <td>1</td>\n",
       "      <td>No</td>\n",
       "      <td>2016-04-26</td>\n",
       "      <td>2016-04-29</td>\n",
       "      <td>41-60</td>\n",
       "      <td>1</td>\n",
       "    </tr>\n",
       "    <tr>\n",
       "      <th>26</th>\n",
       "      <td>5641781</td>\n",
       "      <td>F</td>\n",
       "      <td>2016-04-29T14:19:42Z</td>\n",
       "      <td>2016-04-29T00:00:00Z</td>\n",
       "      <td>45</td>\n",
       "      <td>BENTO FERREIRA</td>\n",
       "      <td>0</td>\n",
       "      <td>1</td>\n",
       "      <td>0</td>\n",
       "      <td>0</td>\n",
       "      <td>0</td>\n",
       "      <td>0</td>\n",
       "      <td>No</td>\n",
       "      <td>2016-04-29</td>\n",
       "      <td>2016-04-29</td>\n",
       "      <td>41-60</td>\n",
       "      <td>1</td>\n",
       "    </tr>\n",
       "  </tbody>\n",
       "</table>\n",
       "</div>"
      ],
      "text/plain": [
       "    AppointmentID Gender          ScheduledDay        AppointmentDay  Age  \\\n",
       "0         5642903      F  2016-04-29T18:38:08Z  2016-04-29T00:00:00Z   62   \n",
       "4         5642494      F  2016-04-29T16:07:23Z  2016-04-29T00:00:00Z   56   \n",
       "5         5626772      F  2016-04-27T08:36:51Z  2016-04-29T00:00:00Z   76   \n",
       "25        5624020      M  2016-04-26T15:04:17Z  2016-04-29T00:00:00Z   46   \n",
       "26        5641781      F  2016-04-29T14:19:42Z  2016-04-29T00:00:00Z   45   \n",
       "\n",
       "      Neighbourhood  Scholarship  Hypertension  Diabetes  Alcoholism  \\\n",
       "0   JARDIM DA PENHA            0             1         0           0   \n",
       "4   JARDIM DA PENHA            0             1         1           0   \n",
       "5         REPÚBLICA            0             1         0           0   \n",
       "25        CONQUISTA            0             1         0           0   \n",
       "26   BENTO FERREIRA            0             1         0           0   \n",
       "\n",
       "    Handicap  SMS_received No-show ScheduledDate AppointmentDate  \\\n",
       "0          0             0      No    2016-04-29      2016-04-29   \n",
       "4          0             0      No    2016-04-29      2016-04-29   \n",
       "5          0             0      No    2016-04-27      2016-04-29   \n",
       "25         0             1      No    2016-04-26      2016-04-29   \n",
       "26         0             0      No    2016-04-29      2016-04-29   \n",
       "\n",
       "    Age_category  disabled/Ill  \n",
       "0   61 and above             1  \n",
       "4          41-60             1  \n",
       "5   61 and above             1  \n",
       "25         41-60             1  \n",
       "26         41-60             1  "
      ]
     },
     "execution_count": 265,
     "metadata": {},
     "output_type": "execute_result"
    }
   ],
   "source": [
    "# Create seperate data set for patient diagnosed with hypertension, Diabetes,or those that are handicapped\n",
    "\n",
    "disabled=df[(df['Hypertension']==1) | (df['Diabetes']==1) | (df['Handicap']==1)]\n",
    "\n",
    "# Create seperate data set for patient diagnosed with hypertension, Diabetes,or those that are handicapped\n",
    "no_disabled=df[(df['Hypertension']==0) & (df['Diabetes']==0) & (df['Handicap']==0)]\n",
    "\n",
    "# Create new column to tell if a patient is ill or disabled for the splitted data created above \n",
    "\n",
    "ill = np.repeat(1,disabled.shape[0])\n",
    "not_ill = np.repeat(0,no_disabled.shape[0])\n",
    "disabled['disabled/Ill']=ill\n",
    "no_disabled['disabled/Ill']=not_ill\n",
    "\n",
    "# Merge the two new data together\n",
    "df=pd.concat([disabled,no_disabled])\n",
    "df.head()\n"
   ]
  },
  {
   "cell_type": "markdown",
   "id": "1741dac4",
   "metadata": {},
   "source": [
    "Having done that, we would be using the groupby function to group the turn up based on the mean of the ill/disabled. We would then convert it to percent by multiplying by 100. Mean will be used in this case we are dealing with data containing zeros and ones. The average of values of 0's and 1's, when multiplied by 100 give percentage of the 1's. This percentage tell us the proportion of ill/disabled in the No-show column. "
   ]
  },
  {
   "cell_type": "code",
   "execution_count": 266,
   "id": "cdf5b0cb",
   "metadata": {},
   "outputs": [
    {
     "data": {
      "text/html": [
       "<div>\n",
       "<style scoped>\n",
       "    .dataframe tbody tr th:only-of-type {\n",
       "        vertical-align: middle;\n",
       "    }\n",
       "\n",
       "    .dataframe tbody tr th {\n",
       "        vertical-align: top;\n",
       "    }\n",
       "\n",
       "    .dataframe thead th {\n",
       "        text-align: right;\n",
       "    }\n",
       "</style>\n",
       "<table border=\"1\" class=\"dataframe\">\n",
       "  <thead>\n",
       "    <tr style=\"text-align: right;\">\n",
       "      <th></th>\n",
       "      <th>No-show</th>\n",
       "      <th>percent ill/disabled</th>\n",
       "    </tr>\n",
       "  </thead>\n",
       "  <tbody>\n",
       "    <tr>\n",
       "      <th>0</th>\n",
       "      <td>No</td>\n",
       "      <td>22.780247</td>\n",
       "    </tr>\n",
       "    <tr>\n",
       "      <th>1</th>\n",
       "      <td>Yes</td>\n",
       "      <td>19.189928</td>\n",
       "    </tr>\n",
       "  </tbody>\n",
       "</table>\n",
       "</div>"
      ],
      "text/plain": [
       "  No-show  percent ill/disabled\n",
       "0      No             22.780247\n",
       "1     Yes             19.189928"
      ]
     },
     "execution_count": 266,
     "metadata": {},
     "output_type": "execute_result"
    }
   ],
   "source": [
    "j=list(df.groupby('No-show')['disabled/Ill'].mean()*100)\n",
    "m=['No','Yes']\n",
    "dg=pd.DataFrame({'No-show':m,'percent ill/disabled':j})\n",
    "dg"
   ]
  },
  {
   "cell_type": "markdown",
   "id": "e313d287",
   "metadata": {},
   "source": [
    "We would create a visual to represent this analysis."
   ]
  },
  {
   "cell_type": "code",
   "execution_count": 267,
   "id": "1f41dac3",
   "metadata": {},
   "outputs": [
    {
     "data": {
      "text/plain": [
       "[Text(0.5, 1.0, 'Bar plot of the percent value of disabled/ill to the No-show values.')]"
      ]
     },
     "execution_count": 267,
     "metadata": {},
     "output_type": "execute_result"
    },
    {
     "data": {
      "image/png": "[encoded data removed]",
      "text/plain": [
       "<Figure size 1152x576 with 1 Axes>"
      ]
     },
     "metadata": {},
     "output_type": "display_data"
    }
   ],
   "source": [
    "# Create a visual\n",
    "sns.set(rc={\"figure.figsize\":(16, 8)},font_scale = 1.2)\n",
    "sns.barplot(x=\"No-show\", y=\"percent ill/disabled\", data=dg).set(title='Bar plot of the percent value of disabled/ill to the No-show values.')"
   ]
  },
  {
   "cell_type": "markdown",
   "id": "3da37774",
   "metadata": {},
   "source": [
    "We can observe that patients diagnosed with an illness or disability have a slightly higher percent turnup than those who dont. This further confirms what was earlier said about people tending to turn up when they are diagnosed with an illness or disability. We recall that Patients above 40 tend to show up more, let us see if they have a higher percent of disabled/ill patients among them.\n",
    "\n",
    "As explained earlier, we would be applying the groupby function nd then finding the percentage distribution of the ill/disabled among the age category. We would then make a plot of the result"
   ]
  },
  {
   "cell_type": "code",
   "execution_count": 268,
   "id": "c59b57fd",
   "metadata": {},
   "outputs": [
    {
     "data": {
      "text/plain": [
       "[Text(0.5, 1.0, 'Plot showing the percentage of ill/disabled across age category')]"
      ]
     },
     "execution_count": 268,
     "metadata": {},
     "output_type": "execute_result"
    },
    {
     "data": {
      "image/png": "[encoded data removed]",
      "text/plain": [
       "<Figure size 1008x432 with 1 Axes>"
      ]
     },
     "metadata": {},
     "output_type": "display_data"
    }
   ],
   "source": [
    "\n",
    "j=list(df.groupby('Age_category')['disabled/Ill'].mean()*100)\n",
    "m=['0-10','11-20','21-30','31-40','41-60','61 and above']\n",
    "dg=pd.DataFrame({'Age_category':m,'percent ill/disabled':j})\n",
    "dg\n",
    "# Create a visual\n",
    "sns.set(rc={\"figure.figsize\":(14, 6)},font_scale = 1.5) \n",
    "sns.barplot(x=\"Age_category\", y=\"percent ill/disabled\", data=dg).set(title='Plot showing the percentage of ill/disabled across age category')\n"
   ]
  },
  {
   "cell_type": "markdown",
   "id": "c4d24e2c",
   "metadata": {},
   "source": [
    "From the plots we can strongly see patients diagnosed with an illness or disabilty increases across the age category. This explains the higher turn up in older people than younger patients."
   ]
  },
  {
   "cell_type": "markdown",
   "id": "d5dc17ae",
   "metadata": {},
   "source": [
    "### Does time interval of the scheduled date and appointment date influence the turn up?\n",
    "\n",
    "There is a possibility that the distance between the scheduled date and appointment might have an effect. It could be that the farther the appointment date, the higher the possibility of patients forgetting or patients feeling much better before then and hence they do not see the need to turn up.\n",
    "\n",
    "We would start this analysis by doing some manipulation on the data. We would like to extract the date from both the 'ScheduledDate' and 'AppointmentDate' columns and then find the difference in months. This values would then be added to a new column 'Month_interval'. We would be using datetime module to split the date and then use dateutil module to find the interval between them as shown below."
   ]
  },
  {
   "cell_type": "code",
   "execution_count": 269,
   "id": "b6336b9c",
   "metadata": {},
   "outputs": [],
   "source": [
    "# Lets create a column that holds the monthly interval between the scheduled date and the appointment date\n",
    "\n",
    "from datetime import datetime\n",
    "from dateutil import relativedelta\n",
    "\n",
    "m=[]\n",
    "\n",
    "for i in range(len(df['ScheduledDate'])):\n",
    "    \n",
    "    start_date = datetime.strptime(df['ScheduledDate'][i], \"%Y-%m-%d\")\n",
    "    end_date = datetime.strptime(df['AppointmentDate'][i], \"%Y-%m-%d\")\n",
    "    k=relativedelta.relativedelta(end_date, start_date).months\n",
    "    \n",
    "    m.append(k)\n",
    "        \n",
    "df['Month_interval']=m\n",
    "\n"
   ]
  },
  {
   "cell_type": "code",
   "execution_count": 270,
   "id": "de0b7366",
   "metadata": {},
   "outputs": [
    {
     "data": {
      "text/plain": [
       "0    99636\n",
       "1     8795\n",
       "2     1885\n",
       "3      126\n",
       "5       55\n",
       "4       30\n",
       "Name: Month_interval, dtype: int64"
      ]
     },
     "execution_count": 270,
     "metadata": {},
     "output_type": "execute_result"
    }
   ],
   "source": [
    "df['Month_interval'].value_counts()"
   ]
  },
  {
   "cell_type": "markdown",
   "id": "d16ab909",
   "metadata": {},
   "source": [
    "We have interval between 0 and 5 months. We will be grouping these months into 'Within the month','1 month' and '2 month and above'. We would then find the percent distribution of the months interval between patients that turned up and did not turn up. This will allow for the comparison between the month interval for those who turned up and those who did not. After the analysis, we would then , create a dataframe that would hold these results."
   ]
  },
  {
   "cell_type": "code",
   "execution_count": 271,
   "id": "cc995a3f",
   "metadata": {},
   "outputs": [
    {
     "data": {
      "text/html": [
       "<div>\n",
       "<style scoped>\n",
       "    .dataframe tbody tr th:only-of-type {\n",
       "        vertical-align: middle;\n",
       "    }\n",
       "\n",
       "    .dataframe tbody tr th {\n",
       "        vertical-align: top;\n",
       "    }\n",
       "\n",
       "    .dataframe thead th {\n",
       "        text-align: right;\n",
       "    }\n",
       "</style>\n",
       "<table border=\"1\" class=\"dataframe\">\n",
       "  <thead>\n",
       "    <tr style=\"text-align: right;\">\n",
       "      <th></th>\n",
       "      <th>Month Interval</th>\n",
       "      <th>percent</th>\n",
       "      <th>No-show</th>\n",
       "    </tr>\n",
       "  </thead>\n",
       "  <tbody>\n",
       "    <tr>\n",
       "      <th>0</th>\n",
       "      <td>Within the month</td>\n",
       "      <td>90.293397</td>\n",
       "      <td>No</td>\n",
       "    </tr>\n",
       "    <tr>\n",
       "      <th>1</th>\n",
       "      <td>1 month</td>\n",
       "      <td>7.862099</td>\n",
       "      <td>No</td>\n",
       "    </tr>\n",
       "    <tr>\n",
       "      <th>2</th>\n",
       "      <td>2 month and above</td>\n",
       "      <td>1.844504</td>\n",
       "      <td>No</td>\n",
       "    </tr>\n",
       "    <tr>\n",
       "      <th>3</th>\n",
       "      <td>Within the month</td>\n",
       "      <td>89.564945</td>\n",
       "      <td>Yes</td>\n",
       "    </tr>\n",
       "    <tr>\n",
       "      <th>4</th>\n",
       "      <td>1 month</td>\n",
       "      <td>8.333707</td>\n",
       "      <td>Yes</td>\n",
       "    </tr>\n",
       "    <tr>\n",
       "      <th>5</th>\n",
       "      <td>2 month and above</td>\n",
       "      <td>2.101349</td>\n",
       "      <td>Yes</td>\n",
       "    </tr>\n",
       "  </tbody>\n",
       "</table>\n",
       "</div>"
      ],
      "text/plain": [
       "      Month Interval    percent No-show\n",
       "0   Within the month  90.293397      No\n",
       "1            1 month   7.862099      No\n",
       "2  2 month and above   1.844504      No\n",
       "3   Within the month  89.564945     Yes\n",
       "4            1 month   8.333707     Yes\n",
       "5  2 month and above   2.101349     Yes"
      ]
     },
     "execution_count": 271,
     "metadata": {},
     "output_type": "execute_result"
    }
   ],
   "source": [
    "# percentage distribution of time difference fixed by patients for their appointment that turned up \n",
    "\n",
    "j=df[(df['No-show']==\"No\")]['Month_interval'].value_counts()\n",
    "\n",
    "percent_value=[]\n",
    "k=j[0]+j[1]+j[2]+j[3]+j[4]+j[5]\n",
    "for i in range(2):\n",
    "    percent_value.append((j[i]/k)*100)\n",
    "percent_value.append(((j[2]+j[3]+j[4]+j[5])/k)*100)\n",
    "\n",
    "# percentage distribution of time difference fixed by patients for their appointment that did not turn up    \n",
    "j=df[(df['No-show']==\"Yes\")]['Month_interval'].value_counts()\n",
    "k=j[0]+j[1]+j[2]+j[3]+j[4]+j[5]\n",
    "for i in range(2):\n",
    "    percent_value.append((j[i]/k)*100)\n",
    "percent_value.append(((j[2]+j[3]+j[4]+j[5])/k)*100)\n",
    "\n",
    "# create dataframe for the time difference fixed by patients for their appointment\n",
    "No_show=['No','No','No','Yes','Yes','Yes']\n",
    "month_cat=['Within the month','1 month', '2 month and above','Within the month','1 month', '2 month and above']\n",
    "\n",
    "month_int = pd.DataFrame({'Month Interval': month_cat,\n",
    "                   'percent': percent_value,\n",
    "                   'No-show': No_show})\n",
    "month_int\n"
   ]
  },
  {
   "cell_type": "code",
   "execution_count": 272,
   "id": "17ef3939",
   "metadata": {},
   "outputs": [
    {
     "data": {
      "text/plain": [
       "[Text(0.5, 1.0, 'Plot of percentage distribution of the month interval against the turn up value')]"
      ]
     },
     "execution_count": 272,
     "metadata": {},
     "output_type": "execute_result"
    },
    {
     "data": {
      "image/png": "[encoded data removed]",
      "text/plain": [
       "<Figure size 1152x432 with 1 Axes>"
      ]
     },
     "metadata": {},
     "output_type": "display_data"
    }
   ],
   "source": [
    "# Create the visual representation of the new dataframe\n",
    "sns.set(rc={\"figure.figsize\":(16, 6)},font_scale = 1.5)\n",
    "\n",
    "\n",
    "sns.barplot(x=\"No-show\", y=\"percent\", hue=\"Month Interval\", data=month_int).set(title='Plot of percentage distribution of the month interval against the turn up value')"
   ]
  },
  {
   "cell_type": "markdown",
   "id": "3cd4afb1",
   "metadata": {},
   "source": [
    "From the graph above, we can observe that the percentage of people that fixed their schedule within the same month and showed up is 90.23 while that of those that did not turn up is 89.5, this is similar to other month interval categories. Therefore, since there is no significant difference, we can say there is no effect of the time difference between their scheduled date and the appointment date.\n"
   ]
  },
  {
   "cell_type": "markdown",
   "id": "310f1674",
   "metadata": {},
   "source": [
    "### Do patient with scholarship tend to show up more?\n",
    "\n",
    "There is a possibilty that little or no finance may be a factor, hence there is a tendency that if the fees are free, patients might turn up more. We would be checking for the percent distribution of scholarship betwen those that turned up to those who did not turn up. We would use the groupby function and aggregate with the mean of the scholarship, since teh value is in 0's and 1's. We would then multiply by 100.\n",
    "\n",
    "We would plot this on a graph for visualization."
   ]
  },
  {
   "cell_type": "code",
   "execution_count": 273,
   "id": "b4f0d736",
   "metadata": {},
   "outputs": [
    {
     "data": {
      "text/plain": [
       "[Text(0.5, 1.0, 'Plot of percentage distribution of those with scholarship against the turn up value')]"
      ]
     },
     "execution_count": 273,
     "metadata": {},
     "output_type": "execute_result"
    },
    {
     "data": {
      "image/png": "[encoded data removed]",
      "text/plain": [
       "<Figure size 1008x432 with 1 Axes>"
      ]
     },
     "metadata": {},
     "output_type": "display_data"
    }
   ],
   "source": [
    "j=list(df.groupby('No-show')['Scholarship'].mean()*100)\n",
    "m=['No','Yes']\n",
    "dg=pd.DataFrame({'No-show':m,'percent of those with scholarship':j})\n",
    "dg\n",
    "# Create a visual\n",
    "sns.set(rc={\"figure.figsize\":(14, 6)},font_scale = 1.5) \n",
    "sns.barplot(x=\"No-show\", y=\"percent of those with scholarship\", data=dg).set(title='Plot of percentage distribution of those with scholarship against the turn up value')\n"
   ]
  },
  {
   "cell_type": "markdown",
   "id": "2d521499",
   "metadata": {},
   "source": [
    "We observe that averagely patients who do not turn up have a higher percentage of patients under scholarship. This shows that our hypothesis that patients with scholarship would show up was wrong from this insight."
   ]
  },
  {
   "cell_type": "markdown",
   "id": "eb87acf7",
   "metadata": {},
   "source": [
    "### Does sending SMS alert help patients show up more?\n",
    "\n",
    "SMS alert could be a reminder to the patients about their upcoming appiontment or it could be a notification sent to them as soon as they schedule their appointment. If its the former, it might have an impact on the turnup. Perhaps if they get alerts they would remember their appointment in a case where they have forgotten. \n",
    "\n",
    "We would be checking for the percent distribution of patients who received SMS betwen those that turned up to those who did not turn up. We would again use the groupby function and aggregate with the mean of the SMS_received column, since the value is also in 0's and 1's. We would then multiply by 100.\n",
    "\n",
    "This will be represented on a abr plot as well"
   ]
  },
  {
   "cell_type": "code",
   "execution_count": 274,
   "id": "c1632eb0",
   "metadata": {},
   "outputs": [
    {
     "data": {
      "text/html": [
       "<div>\n",
       "<style scoped>\n",
       "    .dataframe tbody tr th:only-of-type {\n",
       "        vertical-align: middle;\n",
       "    }\n",
       "\n",
       "    .dataframe tbody tr th {\n",
       "        vertical-align: top;\n",
       "    }\n",
       "\n",
       "    .dataframe thead th {\n",
       "        text-align: right;\n",
       "    }\n",
       "</style>\n",
       "<table border=\"1\" class=\"dataframe\">\n",
       "  <thead>\n",
       "    <tr style=\"text-align: right;\">\n",
       "      <th></th>\n",
       "      <th>No-show</th>\n",
       "      <th>percent of those who received SMS alert</th>\n",
       "    </tr>\n",
       "  </thead>\n",
       "  <tbody>\n",
       "    <tr>\n",
       "      <th>0</th>\n",
       "      <td>No</td>\n",
       "      <td>29.133412</td>\n",
       "    </tr>\n",
       "    <tr>\n",
       "      <th>1</th>\n",
       "      <td>Yes</td>\n",
       "      <td>43.837089</td>\n",
       "    </tr>\n",
       "  </tbody>\n",
       "</table>\n",
       "</div>"
      ],
      "text/plain": [
       "  No-show  percent of those who received SMS alert\n",
       "0      No                                29.133412\n",
       "1     Yes                                43.837089"
      ]
     },
     "execution_count": 274,
     "metadata": {},
     "output_type": "execute_result"
    },
    {
     "data": {
      "image/png": "[encoded data removed]",
      "text/plain": [
       "<Figure size 1080x576 with 1 Axes>"
      ]
     },
     "metadata": {},
     "output_type": "display_data"
    }
   ],
   "source": [
    "\n",
    "j=list(df.groupby('No-show')['SMS_received'].mean()*100)\n",
    "m=['No','Yes']\n",
    "dg=pd.DataFrame({'No-show':m,'percent of those who received SMS alert':j})\n",
    "\n",
    "\n",
    "# Create a visual\n",
    "dg.plot.bar(x='No-show',y='percent of those who received SMS alert', figsize=(15,8), title='Plot of percentage distribution of those who recived SMS alert against the turn up value');\n",
    "dg"
   ]
  },
  {
   "cell_type": "markdown",
   "id": "05d2041b",
   "metadata": {},
   "source": [
    "We can observe that sending sms doesnt really have effect on the turn up. The graph even says higher prcentage of patients who  receive SMS tend not to show up for their appointment."
   ]
  },
  {
   "cell_type": "markdown",
   "id": "69e26796",
   "metadata": {},
   "source": [
    "### Do Alcoholic patient show up more?\n",
    "\n",
    "Alcoholics may find it hard to turn up as they are not ready to break the addiction. Let's see if there is an effect on the turn up. We would be carrying similar analysis by using the groupby function and finding the mean an dthe percentage. This will be plotted on abr chart as well"
   ]
  },
  {
   "cell_type": "code",
   "execution_count": 275,
   "id": "c6f23237",
   "metadata": {},
   "outputs": [
    {
     "data": {
      "text/html": [
       "<div>\n",
       "<style scoped>\n",
       "    .dataframe tbody tr th:only-of-type {\n",
       "        vertical-align: middle;\n",
       "    }\n",
       "\n",
       "    .dataframe tbody tr th {\n",
       "        vertical-align: top;\n",
       "    }\n",
       "\n",
       "    .dataframe thead th {\n",
       "        text-align: right;\n",
       "    }\n",
       "</style>\n",
       "<table border=\"1\" class=\"dataframe\">\n",
       "  <thead>\n",
       "    <tr style=\"text-align: right;\">\n",
       "      <th></th>\n",
       "      <th>No-show</th>\n",
       "      <th>percent</th>\n",
       "    </tr>\n",
       "  </thead>\n",
       "  <tbody>\n",
       "    <tr>\n",
       "      <th>0</th>\n",
       "      <td>No</td>\n",
       "      <td>3.041674</td>\n",
       "    </tr>\n",
       "    <tr>\n",
       "      <th>1</th>\n",
       "      <td>Yes</td>\n",
       "      <td>3.033290</td>\n",
       "    </tr>\n",
       "  </tbody>\n",
       "</table>\n",
       "</div>"
      ],
      "text/plain": [
       "  No-show   percent\n",
       "0      No  3.041674\n",
       "1     Yes  3.033290"
      ]
     },
     "execution_count": 275,
     "metadata": {},
     "output_type": "execute_result"
    },
    {
     "data": {
      "image/png": "[encoded data removed]",
      "text/plain": [
       "<Figure size 720x288 with 1 Axes>"
      ]
     },
     "metadata": {},
     "output_type": "display_data"
    }
   ],
   "source": [
    "j=list(df.groupby('No-show')['Alcoholism'].mean()*100)\n",
    "m=['No','Yes']\n",
    "dg=pd.DataFrame({'No-show':m,'percent':j})\n",
    "\n",
    "\n",
    "# Create a visual\n",
    "dg.plot.bar(x='No-show',y='percent', figsize=(10,4), title='Plot of Appointment turn up against average proportion of alcoholic patients');\n",
    "dg\n"
   ]
  },
  {
   "cell_type": "markdown",
   "id": "eb073a7d",
   "metadata": {},
   "source": [
    "We observe that there is no significant effect of Alcoholics on turn up"
   ]
  },
  {
   "cell_type": "markdown",
   "id": "9e72ad34",
   "metadata": {},
   "source": [
    "### Does neighborhood have  an impact on the turnup?\n",
    "\n",
    "Ordinarily, the neighborhood might have an impact on the turn up. The distance of the patients resident to the clinic, facilities available in neighborhood, etc. Let is find the distribution of the turn up percent in the neighborhoods. Let us find out which neighborhood have a higher percent turn up."
   ]
  },
  {
   "cell_type": "markdown",
   "id": "f700345e",
   "metadata": {},
   "source": [
    "NB: We would be looking at the top 20 neighborhood with the highest scheduled appointment in this dataset"
   ]
  },
  {
   "cell_type": "code",
   "execution_count": 276,
   "id": "48b69a80",
   "metadata": {},
   "outputs": [
    {
     "data": {
      "text/html": [
       "<div>\n",
       "<style scoped>\n",
       "    .dataframe tbody tr th:only-of-type {\n",
       "        vertical-align: middle;\n",
       "    }\n",
       "\n",
       "    .dataframe tbody tr th {\n",
       "        vertical-align: top;\n",
       "    }\n",
       "\n",
       "    .dataframe thead th {\n",
       "        text-align: right;\n",
       "    }\n",
       "</style>\n",
       "<table border=\"1\" class=\"dataframe\">\n",
       "  <thead>\n",
       "    <tr style=\"text-align: right;\">\n",
       "      <th></th>\n",
       "      <th>Location</th>\n",
       "      <th>percent</th>\n",
       "      <th>No-show</th>\n",
       "    </tr>\n",
       "  </thead>\n",
       "  <tbody>\n",
       "    <tr>\n",
       "      <th>0</th>\n",
       "      <td>JARDIM CAMBURI</td>\n",
       "      <td>12.125444</td>\n",
       "      <td>No</td>\n",
       "    </tr>\n",
       "    <tr>\n",
       "      <th>1</th>\n",
       "      <td>MARIA ORTIZ</td>\n",
       "      <td>8.894319</td>\n",
       "      <td>No</td>\n",
       "    </tr>\n",
       "    <tr>\n",
       "      <th>2</th>\n",
       "      <td>RESISTÊNCIA</td>\n",
       "      <td>6.836563</td>\n",
       "      <td>No</td>\n",
       "    </tr>\n",
       "    <tr>\n",
       "      <th>3</th>\n",
       "      <td>JARDIM DA PENHA</td>\n",
       "      <td>6.295456</td>\n",
       "      <td>No</td>\n",
       "    </tr>\n",
       "    <tr>\n",
       "      <th>4</th>\n",
       "      <td>SANTA MARTHA</td>\n",
       "      <td>5.110452</td>\n",
       "      <td>No</td>\n",
       "    </tr>\n",
       "    <tr>\n",
       "      <th>5</th>\n",
       "      <td>CENTRO</td>\n",
       "      <td>5.102694</td>\n",
       "      <td>No</td>\n",
       "    </tr>\n",
       "    <tr>\n",
       "      <th>6</th>\n",
       "      <td>ITARARÉ</td>\n",
       "      <td>5.025116</td>\n",
       "      <td>No</td>\n",
       "    </tr>\n",
       "    <tr>\n",
       "      <th>7</th>\n",
       "      <td>TABUAZEIRO</td>\n",
       "      <td>4.963053</td>\n",
       "      <td>No</td>\n",
       "    </tr>\n",
       "    <tr>\n",
       "      <th>8</th>\n",
       "      <td>SANTO ANTÔNIO</td>\n",
       "      <td>4.387037</td>\n",
       "      <td>No</td>\n",
       "    </tr>\n",
       "    <tr>\n",
       "      <th>9</th>\n",
       "      <td>BONFIM</td>\n",
       "      <td>4.311398</td>\n",
       "      <td>No</td>\n",
       "    </tr>\n",
       "    <tr>\n",
       "      <th>10</th>\n",
       "      <td>JESUS DE NAZARETH</td>\n",
       "      <td>4.183394</td>\n",
       "      <td>No</td>\n",
       "    </tr>\n",
       "    <tr>\n",
       "      <th>11</th>\n",
       "      <td>SANTO ANDRÉ</td>\n",
       "      <td>4.001086</td>\n",
       "      <td>No</td>\n",
       "    </tr>\n",
       "    <tr>\n",
       "      <th>12</th>\n",
       "      <td>JABOUR</td>\n",
       "      <td>3.991389</td>\n",
       "      <td>No</td>\n",
       "    </tr>\n",
       "    <tr>\n",
       "      <th>13</th>\n",
       "      <td>CARATOÍRA</td>\n",
       "      <td>3.828475</td>\n",
       "      <td>No</td>\n",
       "    </tr>\n",
       "    <tr>\n",
       "      <th>14</th>\n",
       "      <td>SÃO PEDRO</td>\n",
       "      <td>3.748958</td>\n",
       "      <td>No</td>\n",
       "    </tr>\n",
       "    <tr>\n",
       "      <th>15</th>\n",
       "      <td>NOVA PALESTINA</td>\n",
       "      <td>3.611257</td>\n",
       "      <td>No</td>\n",
       "    </tr>\n",
       "    <tr>\n",
       "      <th>16</th>\n",
       "      <td>DA PENHA</td>\n",
       "      <td>3.467737</td>\n",
       "      <td>No</td>\n",
       "    </tr>\n",
       "    <tr>\n",
       "      <th>17</th>\n",
       "      <td>ANDORINHAS</td>\n",
       "      <td>3.376583</td>\n",
       "      <td>No</td>\n",
       "    </tr>\n",
       "    <tr>\n",
       "      <th>18</th>\n",
       "      <td>ROMÃO</td>\n",
       "      <td>3.376583</td>\n",
       "      <td>No</td>\n",
       "    </tr>\n",
       "    <tr>\n",
       "      <th>19</th>\n",
       "      <td>ILHA DO PRÍNCIPE</td>\n",
       "      <td>3.363007</td>\n",
       "      <td>No</td>\n",
       "    </tr>\n",
       "    <tr>\n",
       "      <th>20</th>\n",
       "      <td>JARDIM CAMBURI</td>\n",
       "      <td>11.163606</td>\n",
       "      <td>Yes</td>\n",
       "    </tr>\n",
       "    <tr>\n",
       "      <th>21</th>\n",
       "      <td>MARIA ORTIZ</td>\n",
       "      <td>9.289035</td>\n",
       "      <td>Yes</td>\n",
       "    </tr>\n",
       "    <tr>\n",
       "      <th>22</th>\n",
       "      <td>ITARARÉ</td>\n",
       "      <td>7.033453</td>\n",
       "      <td>Yes</td>\n",
       "    </tr>\n",
       "    <tr>\n",
       "      <th>23</th>\n",
       "      <td>RESISTÊNCIA</td>\n",
       "      <td>6.903909</td>\n",
       "      <td>Yes</td>\n",
       "    </tr>\n",
       "    <tr>\n",
       "      <th>24</th>\n",
       "      <td>CENTRO</td>\n",
       "      <td>5.357007</td>\n",
       "      <td>Yes</td>\n",
       "    </tr>\n",
       "    <tr>\n",
       "      <th>25</th>\n",
       "      <td>JESUS DE NAZARETH</td>\n",
       "      <td>5.303665</td>\n",
       "      <td>Yes</td>\n",
       "    </tr>\n",
       "    <tr>\n",
       "      <th>26</th>\n",
       "      <td>JARDIM DA PENHA</td>\n",
       "      <td>4.808352</td>\n",
       "      <td>Yes</td>\n",
       "    </tr>\n",
       "    <tr>\n",
       "      <th>27</th>\n",
       "      <td>CARATOÍRA</td>\n",
       "      <td>4.503543</td>\n",
       "      <td>Yes</td>\n",
       "    </tr>\n",
       "    <tr>\n",
       "      <th>28</th>\n",
       "      <td>TABUAZEIRO</td>\n",
       "      <td>4.366380</td>\n",
       "      <td>Yes</td>\n",
       "    </tr>\n",
       "    <tr>\n",
       "      <th>29</th>\n",
       "      <td>BONFIM</td>\n",
       "      <td>4.191115</td>\n",
       "      <td>Yes</td>\n",
       "    </tr>\n",
       "    <tr>\n",
       "      <th>30</th>\n",
       "      <td>ILHA DO PRÍNCIPE</td>\n",
       "      <td>4.053951</td>\n",
       "      <td>Yes</td>\n",
       "    </tr>\n",
       "    <tr>\n",
       "      <th>31</th>\n",
       "      <td>ANDORINHAS</td>\n",
       "      <td>3.970129</td>\n",
       "      <td>Yes</td>\n",
       "    </tr>\n",
       "    <tr>\n",
       "      <th>32</th>\n",
       "      <td>SÃO PEDRO</td>\n",
       "      <td>3.924408</td>\n",
       "      <td>Yes</td>\n",
       "    </tr>\n",
       "    <tr>\n",
       "      <th>33</th>\n",
       "      <td>SANTO ANDRÉ</td>\n",
       "      <td>3.871066</td>\n",
       "      <td>Yes</td>\n",
       "    </tr>\n",
       "    <tr>\n",
       "      <th>34</th>\n",
       "      <td>SANTA MARTHA</td>\n",
       "      <td>3.779624</td>\n",
       "      <td>Yes</td>\n",
       "    </tr>\n",
       "    <tr>\n",
       "      <th>35</th>\n",
       "      <td>SANTO ANTÔNIO</td>\n",
       "      <td>3.688181</td>\n",
       "      <td>Yes</td>\n",
       "    </tr>\n",
       "    <tr>\n",
       "      <th>36</th>\n",
       "      <td>ROMÃO</td>\n",
       "      <td>3.611979</td>\n",
       "      <td>Yes</td>\n",
       "    </tr>\n",
       "    <tr>\n",
       "      <th>37</th>\n",
       "      <td>GURIGICA</td>\n",
       "      <td>3.474815</td>\n",
       "      <td>Yes</td>\n",
       "    </tr>\n",
       "    <tr>\n",
       "      <th>38</th>\n",
       "      <td>JABOUR</td>\n",
       "      <td>3.436714</td>\n",
       "      <td>Yes</td>\n",
       "    </tr>\n",
       "    <tr>\n",
       "      <th>39</th>\n",
       "      <td>DA PENHA</td>\n",
       "      <td>3.269070</td>\n",
       "      <td>Yes</td>\n",
       "    </tr>\n",
       "  </tbody>\n",
       "</table>\n",
       "</div>"
      ],
      "text/plain": [
       "             Location    percent No-show\n",
       "0      JARDIM CAMBURI  12.125444      No\n",
       "1         MARIA ORTIZ   8.894319      No\n",
       "2         RESISTÊNCIA   6.836563      No\n",
       "3     JARDIM DA PENHA   6.295456      No\n",
       "4        SANTA MARTHA   5.110452      No\n",
       "5              CENTRO   5.102694      No\n",
       "6             ITARARÉ   5.025116      No\n",
       "7          TABUAZEIRO   4.963053      No\n",
       "8       SANTO ANTÔNIO   4.387037      No\n",
       "9              BONFIM   4.311398      No\n",
       "10  JESUS DE NAZARETH   4.183394      No\n",
       "11        SANTO ANDRÉ   4.001086      No\n",
       "12             JABOUR   3.991389      No\n",
       "13          CARATOÍRA   3.828475      No\n",
       "14          SÃO PEDRO   3.748958      No\n",
       "15     NOVA PALESTINA   3.611257      No\n",
       "16           DA PENHA   3.467737      No\n",
       "17         ANDORINHAS   3.376583      No\n",
       "18              ROMÃO   3.376583      No\n",
       "19   ILHA DO PRÍNCIPE   3.363007      No\n",
       "20     JARDIM CAMBURI  11.163606     Yes\n",
       "21        MARIA ORTIZ   9.289035     Yes\n",
       "22            ITARARÉ   7.033453     Yes\n",
       "23        RESISTÊNCIA   6.903909     Yes\n",
       "24             CENTRO   5.357007     Yes\n",
       "25  JESUS DE NAZARETH   5.303665     Yes\n",
       "26    JARDIM DA PENHA   4.808352     Yes\n",
       "27          CARATOÍRA   4.503543     Yes\n",
       "28         TABUAZEIRO   4.366380     Yes\n",
       "29             BONFIM   4.191115     Yes\n",
       "30   ILHA DO PRÍNCIPE   4.053951     Yes\n",
       "31         ANDORINHAS   3.970129     Yes\n",
       "32          SÃO PEDRO   3.924408     Yes\n",
       "33        SANTO ANDRÉ   3.871066     Yes\n",
       "34       SANTA MARTHA   3.779624     Yes\n",
       "35      SANTO ANTÔNIO   3.688181     Yes\n",
       "36              ROMÃO   3.611979     Yes\n",
       "37           GURIGICA   3.474815     Yes\n",
       "38             JABOUR   3.436714     Yes\n",
       "39           DA PENHA   3.269070     Yes"
      ]
     },
     "execution_count": 276,
     "metadata": {},
     "output_type": "execute_result"
    }
   ],
   "source": [
    "# Create dataframe for patients and their turnup based on where they are located\n",
    "\n",
    "percent_value=[]\n",
    "totalLocations=[]\n",
    "j=df[(df['No-show']=='No')]['Neighbourhood'].value_counts()[:20]\n",
    "location=df[(df['No-show']=='No')]['Neighbourhood'].value_counts()[:20].index.tolist()\n",
    "m=sum(j)\n",
    "for i in range(len(j)):\n",
    "    totalLocations.append(location[i])\n",
    "    percent_value.append((j[i]/m)*100)\n",
    "\n",
    "j=df[(df['No-show']=='Yes')]['Neighbourhood'].value_counts()[:20]\n",
    "location=df[(df['No-show']=='Yes')]['Neighbourhood'].value_counts()[:20].index.tolist()\n",
    "m=sum(j)\n",
    "for i in range(len(j)):\n",
    "    totalLocations.append(location[i])\n",
    "    percent_value.append((j[i]/m)*100)\n",
    "    \n",
    "Neighborhood = pd.DataFrame({'Location': totalLocations,\n",
    "                   'percent': percent_value,\n",
    "                   'No-show': ['No']*20 + ['Yes']*20})\n",
    "Neighborhood"
   ]
  },
  {
   "cell_type": "code",
   "execution_count": 277,
   "id": "164348aa",
   "metadata": {},
   "outputs": [
    {
     "data": {
      "text/plain": [
       "[Text(0.5, 1.0, 'Plot of percentage distribution of those with scholarship against the turn up value')]"
      ]
     },
     "execution_count": 277,
     "metadata": {},
     "output_type": "execute_result"
    },
    {
     "data": {
      "image/png": "[encoded data removed]",
      "text/plain": [
       "<Figure size 2520x1080 with 1 Axes>"
      ]
     },
     "metadata": {},
     "output_type": "display_data"
    }
   ],
   "source": [
    "#\n",
    "sns.set_theme(style=\"darkgrid\")\n",
    "sns.set(rc={\"figure.figsize\":(35, 15)},font_scale = 1.5) \n",
    "\n",
    "ax=sns.barplot(x=\"No-show\", y=\"percent\", hue=\"Location\", data=Neighborhood).set(title='Plot of percentage distribution of those with scholarship against the turn up value')\n",
    "\n",
    "ax"
   ]
  },
  {
   "cell_type": "markdown",
   "id": "e064c12b",
   "metadata": {},
   "source": [
    "From the graph, Locations like Jardim Camburi, Jardim Da Penha, Tabuazeiro have a higher percentage of turn up of their patients showing compared to places like Itarare, Santo Andre,Ilha Do Principe that have a higher percent of no turn up compared to the turn up. "
   ]
  },
  {
   "cell_type": "markdown",
   "id": "e0bcb54c",
   "metadata": {},
   "source": [
    "<a id='conclusion'></a>\n",
    "# Conclusion\n",
    "\n"
   ]
  },
  {
   "cell_type": "markdown",
   "id": "a575a575",
   "metadata": {},
   "source": [
    "From the investigation, we Could draw some conclusions like, people above 40 tend to show up more than the younger patients. This could be due to the fact that the higher percent of ill/disabled are among them, which we can conclude from our analysis that disabled/ill patients turn up more and as we know, hypothetically people tend to be more non chalant with health when they feel okay. Patients who turned up have lower percent of scholarship granted  to them. Also, patients who received SMS alert have a lower turn up than those who did not receive, but in the real sense it should be the other way round. Some locations show more turn up of patients than others. Based on the analysis, the farther away the appointment is fixed from the day it is scheduled, the lesser the chances of them turning up. This could be as a result of them forgetting or them feeling better and thereby thinking there is no need turning up.\n",
    "\n",
    "\n",
    "\n"
   ]
  },
  {
   "cell_type": "markdown",
   "id": "15152f0d",
   "metadata": {},
   "source": [
    "<a id='limitation'></a>\n",
    "# Limitations"
   ]
  },
  {
   "cell_type": "markdown",
   "id": "dfa84f80",
   "metadata": {},
   "source": [
    "There are some limitations to this analysis however. Not enough data was provided to further drill down possible reason for why patients did not turn up. If we had the address of patients for example, we could check the distance of the patient's residence to the appointment location. Further information on SMS alert is not given because according to the analysis, people who do not receive SMS show up more which should not be, so perhaps the mode of conveying the reminder(if the SMS alert is a reminder) or maybe the SMS alert is just basically to notify the patient as soon as their appointment is created, which would mean it might not have an impact on the turn up. It was not clear enough in the data."
   ]
  },
  {
   "cell_type": "markdown",
   "id": "6668404b",
   "metadata": {},
   "source": [
    "### References\n",
    "\n",
    "<li>https://www.geeksforgeeks.org/</li>\n",
    "<li> https://datatofish.com/\n",
    "<li> https://www.w3schools.com/\n",
    "<li>https://pandas.pydata.org/pandas-docs\n",
    "<li>https://numpy.org/doc/\n",
    "\n"
   ]
  }
 ],
 "metadata": {
  "kernelspec": {
   "display_name": "Python 3 (ipykernel)",
   "language": "python",
   "name": "python3"
  },
  "language_info": {
   "codemirror_mode": {
    "name": "ipython",
    "version": 3
   },
   "file_extension": ".py",
   "mimetype": "text/x-python",
   "name": "python",
   "nbconvert_exporter": "python",
   "pygments_lexer": "ipython3",
   "version": "3.9.7"
  }
 },
 "nbformat": 4,
 "nbformat_minor": 5
}
